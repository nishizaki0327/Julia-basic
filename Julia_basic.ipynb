{
  "nbformat": 4,
  "nbformat_minor": 0,
  "metadata": {
    "colab": {
      "name": "Julia-basic.ipynb",
      "version": "0.3.2",
      "provenance": [],
      "include_colab_link": true
    },
    "kernelspec": {
      "name": "python3",
      "display_name": "Python 3"
    }
  },
  "cells": [
    {
      "cell_type": "markdown",
      "metadata": {
        "id": "view-in-github",
        "colab_type": "text"
      },
      "source": [
        "<a href=\"https://colab.research.google.com/github/nshzk8975/Julia-basic/blob/master/Julia_basic.ipynb\" target=\"_parent\"><img src=\"https://colab.research.google.com/assets/colab-badge.svg\" alt=\"Open In Colab\"/></a>"
      ]
    },
    {
      "metadata": {
        "id": "sn3ZqFdD9yLP",
        "colab_type": "code",
        "outputId": "3e989c7f-6141-495f-c9b2-394e0505f7ff",
        "colab": {
          "base_uri": "https://localhost:8080/",
          "height": 981
        }
      },
      "cell_type": "code",
      "source": [
        "{\n",
        "  \"nbformat\": 4,\n",
        "  \"nbformat_minor\": 0,\n",
        "  \"metadata\": {\n",
        "    \"colab\": {\n",
        "      \"name\": \"julia_test.ipynb\",\n",
        "      \"version\": \"0.3.2\",\n",
        "      \"provenance\": []\n",
        "    },\n",
        "    \"kernelspec\": {\n",
        "      \"name\": \"julia-1.0\",\n",
        "      \"display_name\": \"Julia 1.0\"\n",
        "    }\n",
        "  },\n",
        "  \"cells\": [\n",
        "    {\n",
        "      \"metadata\": {\n",
        "        \"id\": \"u8woq-Zbu_SK\",\n",
        "        \"colab_type\": \"code\",\n",
        "        \"colab\": {}\n",
        "      },\n",
        "      \"cell_type\": \"code\",\n",
        "      \"source\": [\n",
        "        \"for i in 1:3\\n\",\n",
        "        \"  println(\\\"Juliaが動いた。Colabで動いた\\\")\\n\",\n",
        "        \"end\"\n",
        "      ],\n",
        "      \"execution_count\": 0,\n",
        "      \"outputs\": []\n",
        "    }\n",
        "  ]\n",
        "}"
      ],
      "execution_count": 0,
      "outputs": [
        {
          "output_type": "stream",
          "text": [
            "   Cloning default registries into /root/.julia/registries\n",
            "   Cloning registry General from \"https://github.com/JuliaRegistries/General.git\"\n",
            "\u001b[2K\u001b[?25h  Updating registry at `~/.julia/registries/General`\n",
            "  Updating git-repo `https://github.com/JuliaRegistries/General.git`\n",
            "\u001b[?25l\u001b[2K\u001b[?25h Resolving package versions...\n",
            " Installed MbedTLS ───────── v0.6.8\n",
            " Installed VersionParsing ── v1.1.3\n",
            " Installed SoftGlobalScope ─ v1.0.10\n",
            " Installed Conda ─────────── v1.2.0\n",
            " Installed ZMQ ───────────── v1.0.0\n",
            " Installed Compat ────────── v2.1.0\n",
            " Installed IJulia ────────── v1.18.1\n",
            " Installed BinaryProvider ── v0.5.3\n",
            " Installed JSON ──────────── v0.20.0\n",
            "  Updating `~/.julia/environments/v1.0/Project.toml`\n",
            "  [7073ff75] + IJulia v1.18.1\n",
            "  Updating `~/.julia/environments/v1.0/Manifest.toml`\n",
            "  [b99e7846] + BinaryProvider v0.5.3\n",
            "  [34da2185] + Compat v2.1.0\n",
            "  [8f4d0f93] + Conda v1.2.0\n",
            "  [7073ff75] + IJulia v1.18.1\n",
            "  [682c06a0] + JSON v0.20.0\n",
            "  [739be429] + MbedTLS v0.6.8\n",
            "  [b85f4697] + SoftGlobalScope v1.0.10\n",
            "  [81def892] + VersionParsing v1.1.3\n",
            "  [c2297ded] + ZMQ v1.0.0\n",
            "  [2a0f44e3] + Base64 \n",
            "  [ade2ca70] + Dates \n",
            "  [8bb1440f] + DelimitedFiles \n",
            "  [8ba89e20] + Distributed \n",
            "  [7b1f6079] + FileWatching \n",
            "  [b77e0a4c] + InteractiveUtils \n",
            "  [76f85450] + LibGit2 \n",
            "  [8f399da3] + Libdl \n",
            "  [37e2e46d] + LinearAlgebra \n",
            "  [56ddb016] + Logging \n",
            "  [d6f4376e] + Markdown \n",
            "  [a63ad114] + Mmap \n",
            "  [44cfe95a] + Pkg \n",
            "  [de0858da] + Printf \n",
            "  [3fa0cd96] + REPL \n",
            "  [9a3f8284] + Random \n",
            "  [ea8e919c] + SHA \n",
            "  [9e88b42a] + Serialization \n",
            "  [1a1011a3] + SharedArrays \n",
            "  [6462fe0b] + Sockets \n",
            "  [2f01184e] + SparseArrays \n",
            "  [10745b16] + Statistics \n",
            "  [8dfed614] + Test \n",
            "  [cf7118a7] + UUIDs \n",
            "  [4ec0a83e] + Unicode \n",
            "  Building Conda ──→ `~/.julia/packages/Conda/CpuvI/deps/build.log`\n",
            "  Building ZMQ ────→ `~/.julia/packages/ZMQ/ABGOx/deps/build.log`\n",
            "  Building MbedTLS → `~/.julia/packages/MbedTLS/X4xar/deps/build.log`\n",
            "  Building IJulia ─→ `~/.julia/packages/IJulia/gI2uA/deps/build.log`\n"
          ],
          "name": "stdout"
        }
      ]
    },
    {
      "metadata": {
        "id": "K0ix_A7_95lP",
        "colab_type": "code",
        "colab": {}
      },
      "cell_type": "code",
      "source": [
        ""
      ],
      "execution_count": 0,
      "outputs": []
    }
  ]
}