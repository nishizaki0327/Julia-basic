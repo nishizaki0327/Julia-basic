{
  "nbformat": 4,
  "nbformat_minor": 0,
  "metadata": {
    "colab": {
      "name": "julia_test.ipynb",
      "version": "0.3.2",
      "provenance": []
    },
    "kernelspec": {
      "name": "julia-1.0",
      "display_name": "Julia 1.0"
    }
  },
  "cells": [
    {
      "metadata": {
        "id": "u8woq-Zbu_SK",
        "colab_type": "code",
        "colab": {}
      },
      "cell_type": "code",
      "source": [
        "for i in 1:3\n",
        "  println(\"Juliaが動いた。Colabで動いた\")\n",
        "end"
      ],
      "execution_count": 0,
      "outputs": []
    }
  ]
}
